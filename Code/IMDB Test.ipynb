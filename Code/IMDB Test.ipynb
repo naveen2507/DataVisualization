{
 "cells": [
  {
   "cell_type": "code",
   "execution_count": 9,
   "metadata": {
    "collapsed": false
   },
   "outputs": [
    {
     "name": "stdout",
     "output_type": "stream",
     "text": [
      "How Did You Get Here?\n"
     ]
    }
   ],
   "source": [
    "from imdb import IMDb\n",
    "ia = IMDb()\n",
    "the_matrix = ia.get_movie('0443272')\n",
    "print the_matrix\n"
   ]
  },
  {
   "cell_type": "code",
   "execution_count": 33,
   "metadata": {
    "collapsed": false,
    "scrolled": true
   },
   "outputs": [
    {
     "name": "stdout",
     "output_type": "stream",
     "text": [
      "[<Movie id:1024648[http] title:_Argo (2012)_>, <Movie id:0297741[http] title:_Argo (2004)_>, <Movie id:0316964[http] title:_\"Argo\" (1980)_>, <Movie id:2802850[http] title:_\"Fargo\" (2014)_>, <Movie id:0116282[http] title:_Fargo (1996)_>, <Movie id:4651410[http] title:_Precious Cargo (2016)_>, <Movie id:0841082[http] title:_Argo (2006)_>, <Movie id:3117504[http] title:_Argo 2 (2015)_>, <Movie id:0118480[http] title:_\"Stargate SG-1\" (1997)_>, <Movie id:0381940[http] title:_Cargo (2009)_>, <Movie id:0040506[http] title:_Key Largo (1948)_>, <Movie id:0108783[http] title:_\"Gargoyles\" (1994)_>, <Movie id:0407362[http] title:_\"Battlestar Galactica\" (2004)_>, <Movie id:3393786[http] title:_Jack Reacher: Never Go Back (2016)_>, <Movie id:0111282[http] title:_Stargate (1994)_>, <Movie id:1358781[http] title:_Argo (2008)_>, <Movie id:0382026[http] title:_Fargo (2003) (TV)_>, <Movie id:0374455[http] title:_\"Stargate: Atlantis\" (2004)_>, <Movie id:0110963[http] title:_Queen Margot (1994)_>, <Movie id:0366551[http] title:_Harold & Kumar Go to White Castle (2004)_>]\n",
      "movie\n"
     ]
    },
    {
     "ename": "TypeError",
     "evalue": "string indices must be integers",
     "output_type": "error",
     "traceback": [
      "\u001b[1;31m---------------------------------------------------------------------------\u001b[0m",
      "\u001b[1;31mTypeError\u001b[0m                                 Traceback (most recent call last)",
      "\u001b[1;32m<ipython-input-33-a6b415494fdf>\u001b[0m in \u001b[0;36m<module>\u001b[1;34m()\u001b[0m\n\u001b[0;32m      7\u001b[0m \u001b[0mmovie\u001b[0m \u001b[1;33m=\u001b[0m\u001b[0mmovie_list\u001b[0m\u001b[1;33m[\u001b[0m\u001b[1;36m0\u001b[0m\u001b[1;33m]\u001b[0m\u001b[1;33m\u001b[0m\u001b[0m\n\u001b[0;32m      8\u001b[0m \u001b[1;32mprint\u001b[0m \u001b[0mmovie\u001b[0m\u001b[1;33m[\u001b[0m\u001b[1;34m'kind'\u001b[0m\u001b[1;33m]\u001b[0m\u001b[1;33m\u001b[0m\u001b[0m\n\u001b[1;32m----> 9\u001b[1;33m \u001b[1;32mprint\u001b[0m \u001b[0mmovie\u001b[0m\u001b[1;33m.\u001b[0m\u001b[0msummary\u001b[0m\u001b[1;33m(\u001b[0m\u001b[1;33m)\u001b[0m\u001b[1;33m[\u001b[0m\u001b[1;34m'rating'\u001b[0m\u001b[1;33m]\u001b[0m\u001b[1;33m\u001b[0m\u001b[0m\n\u001b[0m\u001b[0;32m     10\u001b[0m \u001b[1;32mprint\u001b[0m \u001b[0mmovie\u001b[0m\u001b[1;33m.\u001b[0m\u001b[0mkeys\u001b[0m\u001b[1;33m(\u001b[0m\u001b[1;33m)\u001b[0m\u001b[1;33m\u001b[0m\u001b[0m\n\u001b[0;32m     11\u001b[0m \u001b[1;31m#print movie[awards]\u001b[0m\u001b[1;33m\u001b[0m\u001b[1;33m\u001b[0m\u001b[0m\n",
      "\u001b[1;31mTypeError\u001b[0m: string indices must be integers"
     ]
    }
   ],
   "source": [
    "import imdb\n",
    "imdb_access = imdb.IMDb()\n",
    "movie_list = imdb_access.search_movie('Argo') \n",
    "#movie_list = imdb_access.get_movie('2179136')\n",
    "\n",
    "print movie_list\n",
    "movie =movie_list[0]\n",
    "print movie['kind']\n",
    "print movie.summary()['rating']\n",
    "print movie.keys()\n",
    "#print movie[awards]\n",
    "for key in movie.keys():\n",
    "    print movie[key]\n",
    "#print movie['long imdb canonical title']\n",
    "\n",
    "\n",
    "\n",
    "\n"
   ]
  },
  {
   "cell_type": "code",
   "execution_count": 15,
   "metadata": {
    "collapsed": false
   },
   "outputs": [
    {
     "ename": "ImportError",
     "evalue": "No module named BeautifulSoup",
     "output_type": "error",
     "traceback": [
      "\u001b[1;31m---------------------------------------------------------------------------\u001b[0m",
      "\u001b[1;31mImportError\u001b[0m                               Traceback (most recent call last)",
      "\u001b[1;32m<ipython-input-15-c33949b3e360>\u001b[0m in \u001b[0;36m<module>\u001b[1;34m()\u001b[0m\n\u001b[1;32m----> 1\u001b[1;33m \u001b[1;32mimport\u001b[0m \u001b[0mBeautifulSoup\u001b[0m\u001b[1;33m\u001b[0m\u001b[0m\n\u001b[0m\u001b[0;32m      2\u001b[0m \u001b[1;33m\u001b[0m\u001b[0m\n\u001b[0;32m      3\u001b[0m \u001b[0mimdb_access\u001b[0m \u001b[1;33m=\u001b[0m \u001b[0mimdb\u001b[0m\u001b[1;33m.\u001b[0m\u001b[0mIMDb\u001b[0m\u001b[1;33m(\u001b[0m\u001b[1;33m)\u001b[0m\u001b[1;33m\u001b[0m\u001b[0m\n\u001b[0;32m      4\u001b[0m \u001b[0mmovie_list\u001b[0m \u001b[1;33m=\u001b[0m \u001b[0mimdb_access\u001b[0m\u001b[1;33m.\u001b[0m\u001b[0mget_movie\u001b[0m\u001b[1;33m(\u001b[0m\u001b[1;34m'2179136'\u001b[0m\u001b[1;33m)\u001b[0m\u001b[1;33m\u001b[0m\u001b[0m\n\u001b[0;32m      5\u001b[0m \u001b[1;33m\u001b[0m\u001b[0m\n",
      "\u001b[1;31mImportError\u001b[0m: No module named BeautifulSoup"
     ]
    }
   ],
   "source": [
    "import BeautifulSoup\n",
    "\n",
    "imdb_access = imdb.IMDb()\n",
    "movie_list = imdb_access.get_movie('2179136')\n",
    "\n",
    "page = urllib2.urlopen(imdb_access.get_imdbURL(movie_list))\n",
    "soup = BeautifulSoup(page)\n",
    "cover_div = soup.find(attrs={\"class\" : \"photo\"})\n",
    "cover_url = (photo_div.find('img'))['src']\n",
    "print \"Cover url: %s\" % cover_url\n"
   ]
  },
  {
   "cell_type": "code",
   "execution_count": 32,
   "metadata": {
    "collapsed": false
   },
   "outputs": [
    {
     "name": "stdout",
     "output_type": "stream",
     "text": [
      "[<Movie id:1856010[http] title:_\"House of Cards\" (2013)_>, <Movie id:0098825[http] title:_\"House of Cards\" (1990) (mini)_>, <Movie id:0107148[http] title:_Das Kartenhaus (1993)_>, <Movie id:0064448[http] title:_House of Cards (1968)_>, <Movie id:2422212[http] title:_House of Cards (2013)_>, <Movie id:5000604[http] title:_House of Cards (2015) (V)_>, <Movie id:0778740[http] title:_House of Cards (2001) (TV)_>, <Movie id:2273265[http] title:_House of Cards (2012)_>, <Movie id:0008123[http] title:_House of Cards (1917)_>, <Movie id:1440188[http] title:_House of Cards (1947)_>, <Movie id:1218339[http] title:_House of Cards (2008)_>, <Movie id:1917757[http] title:_\"House of Card\" (????)_>, <Movie id:5360734[http] title:_House of Cards (1991)_>, <Movie id:0951440[http] title:_\"Beyond the Break\" House of Cards (2009)_>, <Movie id:1016114[http] title:_\"Kyle XY\" House of Cards (2007)_>, <Movie id:2229211[http] title:_House of Cards (1983) (VG)_>, <Movie id:1065571[http] title:_\"Armstrong Circle Theatre\" House of Cards (1960)_>, <Movie id:5720876[http] title:_\"The First 48\" House of Cards (2016)_>, <Movie id:2827744[http] title:_\"Hardly Working\" House of Cards (2013)_>, <Movie id:1264348[http] title:_\"Diamonds\" House of Cards (1981)_>]\n",
      "tv series\n",
      "Movie\n",
      "=====\n",
      "Title: \"House of Cards\" (2013)\n",
      "\n",
      "['kind', 'year', 'title', 'canonical title', 'long imdb title', 'long imdb canonical title', 'smart canonical title', 'smart long imdb canonical title']\n",
      "2013\n"
     ]
    },
    {
     "ename": "KeyError",
     "evalue": "'rating'",
     "output_type": "error",
     "traceback": [
      "\u001b[1;31m---------------------------------------------------------------------------\u001b[0m",
      "\u001b[1;31mKeyError\u001b[0m                                  Traceback (most recent call last)",
      "\u001b[1;32m<ipython-input-32-f4e874774df6>\u001b[0m in \u001b[0;36m<module>\u001b[1;34m()\u001b[0m\n\u001b[0;32m      9\u001b[0m \u001b[1;32mprint\u001b[0m \u001b[0mmovie_list\u001b[0m\u001b[1;33m[\u001b[0m\u001b[1;36m0\u001b[0m\u001b[1;33m]\u001b[0m\u001b[1;33m.\u001b[0m\u001b[0mkeys\u001b[0m\u001b[1;33m(\u001b[0m\u001b[1;33m)\u001b[0m\u001b[1;33m\u001b[0m\u001b[0m\n\u001b[0;32m     10\u001b[0m \u001b[1;32mprint\u001b[0m \u001b[0mmovie_list\u001b[0m\u001b[1;33m[\u001b[0m\u001b[1;36m0\u001b[0m\u001b[1;33m]\u001b[0m\u001b[1;33m[\u001b[0m\u001b[1;34m'year'\u001b[0m\u001b[1;33m]\u001b[0m\u001b[1;33m\u001b[0m\u001b[0m\n\u001b[1;32m---> 11\u001b[1;33m \u001b[1;32mprint\u001b[0m \u001b[0mmovie_list\u001b[0m\u001b[1;33m[\u001b[0m\u001b[1;36m0\u001b[0m\u001b[1;33m]\u001b[0m\u001b[1;33m[\u001b[0m\u001b[1;34m'rating'\u001b[0m\u001b[1;33m]\u001b[0m\u001b[1;33m\u001b[0m\u001b[0m\n\u001b[0m\u001b[0;32m     12\u001b[0m \u001b[1;33m\u001b[0m\u001b[0m\n\u001b[0;32m     13\u001b[0m \u001b[1;31m#print movie_list['rating']\u001b[0m\u001b[1;33m\u001b[0m\u001b[1;33m\u001b[0m\u001b[0m\n",
      "\u001b[1;32mC:\\Anaconda2\\lib\\site-packages\\imdb\\utils.pyc\u001b[0m in \u001b[0;36m__getitem__\u001b[1;34m(self, key)\u001b[0m\n\u001b[0;32m   1467\u001b[0m         \u001b[1;31m# Handle key aliases.\u001b[0m\u001b[1;33m\u001b[0m\u001b[1;33m\u001b[0m\u001b[0m\n\u001b[0;32m   1468\u001b[0m         \u001b[0mkey\u001b[0m \u001b[1;33m=\u001b[0m \u001b[0mself\u001b[0m\u001b[1;33m.\u001b[0m\u001b[0mkeys_alias\u001b[0m\u001b[1;33m.\u001b[0m\u001b[0mget\u001b[0m\u001b[1;33m(\u001b[0m\u001b[0mkey\u001b[0m\u001b[1;33m,\u001b[0m \u001b[0mkey\u001b[0m\u001b[1;33m)\u001b[0m\u001b[1;33m\u001b[0m\u001b[0m\n\u001b[1;32m-> 1469\u001b[1;33m         \u001b[0mrawData\u001b[0m \u001b[1;33m=\u001b[0m \u001b[0mself\u001b[0m\u001b[1;33m.\u001b[0m\u001b[0mdata\u001b[0m\u001b[1;33m[\u001b[0m\u001b[0mkey\u001b[0m\u001b[1;33m]\u001b[0m\u001b[1;33m\u001b[0m\u001b[0m\n\u001b[0m\u001b[0;32m   1470\u001b[0m         \u001b[1;32mif\u001b[0m \u001b[0mkey\u001b[0m \u001b[1;32min\u001b[0m \u001b[0mself\u001b[0m\u001b[1;33m.\u001b[0m\u001b[0mkeys_tomodify\u001b[0m \u001b[1;32mand\u001b[0m\u001b[0;31m \u001b[0m\u001b[0;31m\\\u001b[0m\u001b[1;33m\u001b[0m\u001b[0m\n\u001b[0;32m   1471\u001b[0m                 \u001b[0mself\u001b[0m\u001b[1;33m.\u001b[0m\u001b[0mmodFunct\u001b[0m \u001b[1;32mnot\u001b[0m \u001b[1;32min\u001b[0m \u001b[1;33m(\u001b[0m\u001b[0mNone\u001b[0m\u001b[1;33m,\u001b[0m \u001b[0mmodNull\u001b[0m\u001b[1;33m)\u001b[0m\u001b[1;33m:\u001b[0m\u001b[1;33m\u001b[0m\u001b[0m\n",
      "\u001b[1;31mKeyError\u001b[0m: 'rating'"
     ]
    }
   ],
   "source": [
    "import imdb\n",
    "imdb_access = imdb.IMDb()\n",
    "movie_list = imdb_access.search_movie('House of Cards') \n",
    "#movie_list = imdb_access.get_movie('2179136')\n",
    "\n",
    "print movie_list\n",
    "print movie_list[0]['kind']\n",
    "print movie_list[0].summary()\n",
    "print movie_list[0].keys()\n",
    "print movie_list[0]['year']\n",
    "print movie_list[0]['rating']\n",
    "\n",
    "#print movie_list['rating']\n",
    "#print movie_list['cover url']\n",
    "\n",
    "\n",
    "\n",
    "\n"
   ]
  },
  {
   "cell_type": "code",
   "execution_count": 8,
   "metadata": {
    "collapsed": false
   },
   "outputs": [
    {
     "name": "stdout",
     "output_type": "stream",
     "text": [
      "Movie\n",
      "=====\n",
      "Title: Argo (2012)\n",
      "Genres: Biography, Drama, History, Thriller.\n",
      "Director: Ben Affleck.\n",
      "Writer: Chris Terrio, Tony Mendez, Joshuah Bearman.\n",
      "Cast: Ben Affleck (Tony Mendez), Bryan Cranston (Jack O'Donnell), Alan Arkin (Lester Siegel), John Goodman (John Chambers), Victor Garber (Ken Taylor).\n",
      "Runtime: 120, 130::(Extended Version).\n",
      "Country: USA.\n",
      "Language: English, Persian.\n",
      "Rating: 7.8 (444392 votes).\n",
      "\n",
      "2012\n",
      "7.8\n",
      "Ben Affleck\n"
     ]
    }
   ],
   "source": [
    "import imdb\n",
    "imdb_access = imdb.IMDb()\n",
    "movie_list = imdb_access.search_movie('Argo') \n",
    "#imdb_access.update(movie_list[0])\n",
    "imdb_access.update(movie_list[0], ['main', 'vote details'])\n",
    "print movie_list[0].summary()\n",
    "print movie_list[0].get('year')\n",
    "print movie_list[0].get('rating')\n",
    "person = movie_list[0].get('director')\n",
    "print person[0]['name']\n",
    "\n",
    "#movie_list = imdb_access.get_movie('2179136')\n",
    "\n",
    "\n",
    "\n",
    "\n",
    "\n",
    "\n"
   ]
  },
  {
   "cell_type": "code",
   "execution_count": null,
   "metadata": {
    "collapsed": true
   },
   "outputs": [],
   "source": []
  },
  {
   "cell_type": "code",
   "execution_count": null,
   "metadata": {
    "collapsed": true
   },
   "outputs": [],
   "source": []
  }
 ],
 "metadata": {
  "kernelspec": {
   "display_name": "Python 2",
   "language": "python",
   "name": "python2"
  },
  "language_info": {
   "codemirror_mode": {
    "name": "ipython",
    "version": 2
   },
   "file_extension": ".py",
   "mimetype": "text/x-python",
   "name": "python",
   "nbconvert_exporter": "python",
   "pygments_lexer": "ipython2",
   "version": "2.7.11"
  }
 },
 "nbformat": 4,
 "nbformat_minor": 0
}
