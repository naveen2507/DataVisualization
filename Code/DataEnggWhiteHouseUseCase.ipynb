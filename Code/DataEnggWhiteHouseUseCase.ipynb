{
 "cells": [
  {
   "cell_type": "code",
   "execution_count": 1,
   "metadata": {
    "collapsed": true
   },
   "outputs": [],
   "source": [
    "import pandas as pd\n",
    "import matplotlib.pyplot as plt\n",
    "import seaborn\n",
    "import datetime as dt\n"
   ]
  },
  {
   "cell_type": "code",
   "execution_count": 7,
   "metadata": {
    "collapsed": false
   },
   "outputs": [],
   "source": [
    "white_house_data=pd.read_csv('D:/Uni-MS/DataEngineering/Project/WhiteHouseData/whitehouse_waves-2016_3.csv', delimiter=\",\")\n"
   ]
  },
  {
   "cell_type": "code",
   "execution_count": 11,
   "metadata": {
    "collapsed": false
   },
   "outputs": [],
   "source": [
    "white_house_data =  white_house_data[[10] + [14]]"
   ]
  },
  {
   "cell_type": "code",
   "execution_count": 12,
   "metadata": {
    "collapsed": false
   },
   "outputs": [
    {
     "data": {
      "text/plain": [
       "['APPT_MADE_DATE', 'Total_People']"
      ]
     },
     "execution_count": 12,
     "metadata": {},
     "output_type": "execute_result"
    }
   ],
   "source": [
    "white_house_data.columns.values.tolist()"
   ]
  },
  {
   "cell_type": "code",
   "execution_count": 13,
   "metadata": {
    "collapsed": false
   },
   "outputs": [
    {
     "name": "stdout",
     "output_type": "stream",
     "text": [
      "         APPT_MADE_DATE  Total_People\n",
      "0         9/2/2015 0:00           1.0\n",
      "1        9/29/2015 0:00           7.0\n",
      "2        9/29/2015 0:00           7.0\n",
      "3        9/29/2015 0:00           7.0\n",
      "4        9/29/2015 0:00           7.0\n",
      "5        9/29/2015 0:00           7.0\n",
      "6        9/29/2015 0:00           7.0\n",
      "7        9/29/2015 0:00           7.0\n",
      "8         9/1/2015 0:00           1.0\n",
      "9        9/30/2015 0:00           1.0\n",
      "10       10/1/2015 0:00           1.0\n",
      "11       9/23/2015 0:00         285.0\n",
      "12       9/21/2015 0:00         285.0\n",
      "13       9/23/2015 0:00         285.0\n",
      "14       9/23/2015 0:00         285.0\n",
      "15       9/23/2015 0:00         285.0\n",
      "16       9/21/2015 0:00         285.0\n",
      "17       9/21/2015 0:00         285.0\n",
      "18       9/21/2015 0:00         285.0\n",
      "19       9/21/2015 0:00         285.0\n",
      "20       9/21/2015 0:00         285.0\n",
      "21       9/21/2015 0:00         285.0\n",
      "22       9/23/2015 0:00         285.0\n",
      "23       9/23/2015 0:00         285.0\n",
      "24       9/21/2015 0:00         285.0\n",
      "25       9/22/2015 0:00         285.0\n",
      "26       9/22/2015 0:00         285.0\n",
      "27       9/23/2015 0:00         285.0\n",
      "28       9/21/2015 0:00         285.0\n",
      "29       9/21/2015 0:00         285.0\n",
      "...                 ...           ...\n",
      "247398  12/29/2015 0:00          17.0\n",
      "247399  12/29/2015 0:00          17.0\n",
      "247400  12/29/2015 0:00          17.0\n",
      "247401  12/29/2015 0:00          17.0\n",
      "247402  12/31/2015 0:00           3.0\n",
      "247403  12/31/2015 0:00           3.0\n",
      "247404  12/30/2015 0:00           3.0\n",
      "247405  12/31/2015 0:00           3.0\n",
      "247406  12/30/2015 0:00           3.0\n",
      "247407  12/30/2015 0:00           3.0\n",
      "247408  12/30/2015 0:00           5.0\n",
      "247409  12/30/2015 0:00           5.0\n",
      "247410  12/30/2015 0:00           5.0\n",
      "247411  12/30/2015 0:00           5.0\n",
      "247412  12/30/2015 0:00           5.0\n",
      "247413  12/31/2015 0:00          13.0\n",
      "247414  12/31/2015 0:00          13.0\n",
      "247415  12/31/2015 0:00          13.0\n",
      "247416  12/31/2015 0:00          13.0\n",
      "247417  12/31/2015 0:00          13.0\n",
      "247418  12/31/2015 0:00          13.0\n",
      "247419  12/31/2015 0:00          13.0\n",
      "247420  12/31/2015 0:00          13.0\n",
      "247421  12/31/2015 0:00          13.0\n",
      "247422  12/31/2015 0:00          13.0\n",
      "247423  12/31/2015 0:00          13.0\n",
      "247424  12/31/2015 0:00          13.0\n",
      "247425  12/31/2015 0:00          13.0\n",
      "247426  12/21/2015 0:00           1.0\n",
      "247427  12/31/2015 0:00           1.0\n",
      "\n",
      "[247428 rows x 2 columns]\n"
     ]
    }
   ],
   "source": [
    "print white_house_data"
   ]
  },
  {
   "cell_type": "code",
   "execution_count": 22,
   "metadata": {
    "collapsed": false
   },
   "outputs": [
    {
     "name": "stdout",
     "output_type": "stream",
     "text": [
      "Series([], Name: APPT_MADE_DATE, dtype: object)\n"
     ]
    }
   ],
   "source": [
    "print white_house_data['APPT_MADE_DATE'].ix['2015-12-29 0:00':'2015-12-30 0:00']\n"
   ]
  },
  {
   "cell_type": "code",
   "execution_count": 24,
   "metadata": {
    "collapsed": false
   },
   "outputs": [
    {
     "name": "stdout",
     "output_type": "stream",
     "text": [
      "Empty DataFrame\n",
      "Columns: [APPT_MADE_DATE, Total_People]\n",
      "Index: []\n"
     ]
    }
   ],
   "source": [
    "print white_house_data[(white_house_data['APPT_MADE_DATE'] > '2015-12-31 0:00') & (white_house_data['APPT_MADE_DATE'] < '2015-12-29 0:00')]\n"
   ]
  },
  {
   "cell_type": "code",
   "execution_count": null,
   "metadata": {
    "collapsed": true
   },
   "outputs": [],
   "source": []
  }
 ],
 "metadata": {
  "kernelspec": {
   "display_name": "Python 2",
   "language": "python",
   "name": "python2"
  },
  "language_info": {
   "codemirror_mode": {
    "name": "ipython",
    "version": 2
   },
   "file_extension": ".py",
   "mimetype": "text/x-python",
   "name": "python",
   "nbconvert_exporter": "python",
   "pygments_lexer": "ipython2",
   "version": "2.7.11"
  }
 },
 "nbformat": 4,
 "nbformat_minor": 0
}
